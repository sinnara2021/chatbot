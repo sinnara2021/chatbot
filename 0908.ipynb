{
  "nbformat": 4,
  "nbformat_minor": 0,
  "metadata": {
    "colab": {
      "name": "0908.ipynb",
      "provenance": [],
      "authorship_tag": "ABX9TyMWGDMwb02RpFBGs4O1cvxL",
      "include_colab_link": true
    },
    "kernelspec": {
      "name": "python3",
      "display_name": "Python 3"
    },
    "language_info": {
      "name": "python"
    }
  },
  "cells": [
    {
      "cell_type": "markdown",
      "metadata": {
        "id": "view-in-github",
        "colab_type": "text"
      },
      "source": [
        "<a href=\"https://colab.research.google.com/github/sinnara2021/chatbot/blob/main/0908.ipynb\" target=\"_parent\"><img src=\"https://colab.research.google.com/assets/colab-badge.svg\" alt=\"Open In Colab\"/></a>"
      ]
    },
    {
      "cell_type": "markdown",
      "metadata": {
        "id": "0kmjuM3QEHcc"
      },
      "source": [
        "제목 아래에 있는 제목입니다."
      ]
    },
    {
      "cell_type": "code",
      "metadata": {
        "colab": {
          "base_uri": "https://localhost:8080/"
        },
        "id": "q0JCwDkdDEl-",
        "outputId": "18b9bc90-0190-43ca-9b35-b5ea00e459b2"
      },
      "source": [
        "a = 5\n",
        "b = 10\n",
        "print(a+b)"
      ],
      "execution_count": 1,
      "outputs": [
        {
          "output_type": "stream",
          "name": "stdout",
          "text": [
            "15\n"
          ]
        }
      ]
    },
    {
      "cell_type": "markdown",
      "metadata": {
        "id": "jUcAja8rEOyB"
      },
      "source": [
        "곱하기 입니다."
      ]
    },
    {
      "cell_type": "code",
      "metadata": {
        "colab": {
          "base_uri": "https://localhost:8080/"
        },
        "id": "CrHqgibTDzfP",
        "outputId": "39ba8629-6086-4a05-d24d-c2cfb57cbd6b"
      },
      "source": [
        "a = 5\n",
        "b = 10\n",
        "print(a*b)"
      ],
      "execution_count": 4,
      "outputs": [
        {
          "output_type": "stream",
          "name": "stdout",
          "text": [
            "50\n"
          ]
        }
      ]
    },
    {
      "cell_type": "code",
      "metadata": {
        "colab": {
          "base_uri": "https://localhost:8080/"
        },
        "id": "Qoy5mmdsEaFI",
        "outputId": "bf0bfee6-22b5-4afe-ef0d-711b2cc4eefb"
      },
      "source": [
        "a = 5\n",
        "b = 10\n",
        "print(a*b*a)"
      ],
      "execution_count": 6,
      "outputs": [
        {
          "output_type": "stream",
          "name": "stdout",
          "text": [
            "250\n"
          ]
        }
      ]
    }
  ]
}